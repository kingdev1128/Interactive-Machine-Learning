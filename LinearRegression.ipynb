{
 "cells": [
  {
   "cell_type": "markdown",
   "id": "c70f80d8",
   "metadata": {},
   "source": [
    "<span style=\"font-size:40px; color:blue\">  Linear Regression</span> "
   ]
  },
  {
   "cell_type": "markdown",
   "id": "afb32a80",
   "metadata": {},
   "source": [
    "##### Table of Contents\n",
    "<ul>\n",
    "  <li><a href=\"#Definition\">Definition</a></li>\n",
    "  <li><a href=\"#Assumptions\">Assumptions</a></li>\n",
    "  <li><a href=\"#Types_of_Linear_Regression\">Types of Linear Regression</a></li>\n",
    "  <li><a href=\"#Formulation\">Formulation</a></li>\n",
    "  <li><a href=\"#steps\">Analysis Steps</a></li>\n",
    "  <li><a href=\"#Simple_linear_regression_for_Sales_Prediction\">Simple linear regression(Sales Prediction Problem)</a></li>\n",
    "</ul>"
   ]
  },
  {
   "cell_type": "markdown",
   "id": "c351f787",
   "metadata": {},
   "source": [
    "<span id='Definition' style=\"font-size:30px; color:green\">Definition</span> "
   ]
  },
  {
   "cell_type": "markdown",
   "id": "b1b7f695",
   "metadata": {},
   "source": [
    "In statistics, __linear regression__ is a statistical model which estimates the linear relationship between a scalar response(known as dependent variable or target variable) and one or more explanatory variables (known as independent variables or predictor variables). Linear regression is an analytics procedure that can generate predictions by using an easily interpreted mathematical formula.\n",
    "\n",
    "__Difference between classification and regression:__ Classification and regression are machine learning tasks, but they differ in output. Classification predicts discrete labels or categories, while regression predicts continuous numerical values. \n",
    "\n",
    "__Linear Regression__ is the __supervised Machine Learning model__ in which the model finds the best fit linear line between the independent and dependent variable i.e it finds the linear relationship between the dependent and independent variable. Supervised learning is a paradigm in machine learning where input objects and a desired output value train a model. The training data is processed, building a function that maps new data on expected output values."
   ]
  },
  {
   "cell_type": "markdown",
   "id": "c50b6bcd",
   "metadata": {},
   "source": [
    "<span id='Assumptions' style=\"font-size:30px; color:green\">Assumptions</span> "
   ]
  },
  {
   "cell_type": "markdown",
   "id": "4c26e798",
   "metadata": {},
   "source": [
    "Given below are the basic assumptions that a linear regression model makes regarding a dataset on which it is applied:  \n",
    "\n",
    "- __Linear relationship__: The relationship between response and feature variables should be linear. The linearity assumption can be tested using scatter plots. As shown below, 1st figure represents linearly related variables whereas variables in the 2nd and 3rd figures are most likely non-linear. So, 1st figure will give better predictions using linear regression. \n",
    "- __Little or no multi-collinearity__: It is assumed that there is little or no multicollinearity in the data. Multicollinearity occurs when the features (or independent variables) are not independent of each other.\n",
    "- __Little or no autocorrelation__: Another assumption is that there is little or no autocorrelation in the data. Autocorrelation occurs when the residual errors are not independent of each other. We can refer here for more insight into this topic.\n",
    "- __No outliers__: We assume that there are no outliers in the data. Outliers are data points that are far away from the rest of the data. Outliers can affect the results of the analysis.\n",
    "- __Homoscedasticity__: Homoscedasticity describes a situation in which the error term (that is, the “noise” or random disturbance in the relationship between the independent variables and the dependent variable) is the same across all values of the independent variables. As shown below, figure 1 has homoscedasticity while Figure 2 has heteroscedasticity."
   ]
  },
  {
   "cell_type": "markdown",
   "id": "2049f7e7",
   "metadata": {},
   "source": [
    "<span id='Types_of_Linear_Regression' style=\"font-size:30px; color:green\">Types of Linear Regression</span> "
   ]
  },
  {
   "cell_type": "markdown",
   "id": "1995daa7",
   "metadata": {},
   "source": [
    "There are two main types of linear regression:\n",
    "\n",
    "- __Simple linear regression__: This involves predicting a dependent variable based on a single independent variable.\n",
    "\n",
    "- __Multiple linear regression__: This involves predicting a dependent variable based on multiple independent variables."
   ]
  },
  {
   "cell_type": "markdown",
   "id": "b2b1ae5c",
   "metadata": {},
   "source": [
    "<span id='Formulation' style=\"font-size:30px; color:green\">Formulation</span> "
   ]
  },
  {
   "cell_type": "markdown",
   "id": "8d5971c0",
   "metadata": {},
   "source": [
    "Linear regression models are often fitted using the __least squares approach__, but they may also be fitted in other ways."
   ]
  },
  {
   "cell_type": "markdown",
   "id": "92ad01ab",
   "metadata": {},
   "source": [
    "Given a data set __{$y_{i}$, $x_{i1}$, ..., $x_{ip}$}$_{i=1}^n$__ of n statistical units, a linear regression model assumes that the relationship between the dependent variable y and the vector of regressors __x__ is linear. This relationship is modeled through a disturbance term or error variable ε — an unobserved random variable that adds \"noise\" to the linear relationship between the dependent variable and regressors. Thus the model takes the form\n",
    "\n",
    "$\\;\\;\\;\\;\\;\\; y_i = \\beta_0 + \\beta_1x_{i1} + ... + \\beta_px_{ip}$ =  __x$_{i}^T\\beta$__ + $\\epsilon_i \\;\\;\\; i = 1, ..., n,$<br>\n",
    "where $^T$ denotes the transpose, so that __x$_{i}^T\\beta$__ is the inner product between vectors __x$_i$__ and __β__.\n",
    "\n",
    "Often these n equations are stacked together and written in matrix notation as<br>\n",
    "$\\;\\;\\;\\;\\;\\;$ __y = X$\\beta$ + $\\epsilon$__,<br>where\n",
    "\n",
    "$\\;\\;\\;\\;\\;\\;$ __y=__ \n",
    "$\n",
    "\\left[\\begin{array}{cc} \n",
    "y_1\\\\ \n",
    "y_2\\\\ \n",
    "...\\\\\n",
    "y_n\\\\\n",
    "\\end{array}\\right]\n",
    "$, $\\;\\;\\;\\;\\;\\;$ __X=__ \n",
    "$\n",
    "\\left[\\begin{array}{cc} \n",
    "x_{1}^T\\\\ \n",
    "x_{2}^T\\\\ \n",
    "...\\\\\n",
    "x_{n}^T\\\\ \n",
    "\\end{array}\\right]\n",
    "$ = $\n",
    "\\left[\\begin{array}{cc} \n",
    "1\\;\\;\\; x_{11} \\;\\;\\;   ... \\;\\;\\;  x_{1p}\\\\ \n",
    "1\\;\\;\\; x_{21} \\;\\;\\;   ... \\;\\;\\;  x_{2p}\\\\ \n",
    "...\\;\\;...\\;\\;...\\;\\;...\\\\\n",
    "1\\;\\;\\; x_{n1} \\;\\;\\;   ... \\;\\;\\;  x_{np}\\\\ \n",
    "\\end{array}\\right]\n",
    "$\n",
    "$\\;\\;\\;\\;\\;\\;$ __$\\beta$=__ \n",
    "$\n",
    "\\left[\\begin{array}{cc} \n",
    "\\beta_0\\\\ \n",
    "\\beta_1\\\\ \n",
    "\\beta_2\\\\ \n",
    "...\\\\\n",
    "\\beta_n\\\\ \n",
    "\\end{array}\\right]\n",
    "$, $\\;\\;\\;\\;\\;\\;$ __$\\epsilon$=__ \n",
    "$\n",
    "\\left[\\begin{array}{cc} \n",
    "\\epsilon_1\\\\ \n",
    "\\epsilon_2\\\\ \n",
    "...\\\\\n",
    "\\epsilon_n\\\\\n",
    "\\end{array}\\right]\n",
    "$\n",
    "\n",
    "\n"
   ]
  },
  {
   "cell_type": "markdown",
   "id": "6be56327",
   "metadata": {},
   "source": [
    "<span id='steps' style=\"font-size:30px; color:green\">Analysis Steps</span> "
   ]
  },
  {
   "cell_type": "markdown",
   "id": "45c017ae",
   "metadata": {},
   "source": [
    "Here are the key steps to understand a linear regression model:<br>\n",
    "\n",
    "<ol>\n",
    "    <li>\n",
    "      <b>Data Collection:</b> \n",
    "      Gather the dataset containing the relevant information we want to model. For simple linear regresion we typically \n",
    "      have one dependent variable and one independent variable. In multiple linear regression we have multiple independent \n",
    "      variables.\n",
    "    </li>\n",
    "  <li>\n",
    "      <b>Data preprocessing:</b>\n",
    "      <ul>\n",
    "          <li>Data cleaning: Check for missing values and outliers.Handle them appropriately by imputing missing data or \n",
    "              removing outliers\n",
    "          </li>\n",
    "          <li>\n",
    "              Feature Selection/Engineering: Determine which independent variable are relevant for our model. we might need \n",
    "              to transform or engineer features to make them suitable for regresion\n",
    "          </li>\n",
    "      </ul> \n",
    "\n",
    "  </li>\n",
    "  <li>\n",
    "      <b>Data Visualization:</b> \n",
    "      Visualize the data by creating a scatterplot of the dependent variable against the independent variables to get an \n",
    "      initial sens of the relationship.\n",
    "  </li>\n",
    "  <li>\n",
    "      <b>Assumption Check:</b> \n",
    "      Linear regression makes several assumptions, including linearity, independence of errors, homoscedasticity, and normality\n",
    "      of errors. We should check if our data satisfies these assumptions. If not, we may need to apply transformations or \n",
    "      consider different modeling techniques.\n",
    "  </li>\n",
    "  <li>\n",
    "      <b>Split Data: </b> \n",
    "      Divide our dataset into a training set and testing set. The training set is used to train the model and the testing set\n",
    "      is sued to evaluate its preformance.<br>\n",
    "      There are several methods for spliting datasets for machine learning and data analysis, Each method serves different \n",
    "      purpose and has its advantages and disadvantages. Here are some comon dataset splitting methods along with step by step \n",
    "      explanations for each:\n",
    "      <ol type=\"a\">\n",
    "          <li>\n",
    "              <b>Train-test Split(Holdout Method) - </b> purpose to create two seperate sets, one for training and one for \n",
    "              testing the mocel<br>\n",
    "              Steps:\n",
    "              <ul>\n",
    "                  <li>Randomly shuffle the dataset to ensure teh data is well distributed.</li>\n",
    "                  <li>Split the data into two parts, typically with a ratio like 70-30 or 80-20, where one part is for training\n",
    "                      and the other for testing</li>\n",
    "                  <li>Train our machine learning model on the training set</li>\n",
    "                  <li>Evaluate the model performance on the test set</li>\n",
    "              </ul><br>\n",
    "              <b>K-Fold Cross Validation:</b> Purpose to assess the model's performance by training and testing it on different \n",
    "              subsets of the data. steps: A. Divide the dataset into K equal sized folds B. For each fold(1 to K) treat it as a\n",
    "              test set and the remaining K-1 folds as the training set. C. Train and evaluate the model on each of the K \n",
    "              iterations. D. Calculate performance metrics(accuracy) by averaging the results from all iterations.<br><br>\n",
    "              <b>startified Sampling: </b>purpose to ensure that the proportion of different classes in the dataset is \n",
    "              maintained in teh train and test sets steps: A. Identify the target variable B. Stratify the data by the target \n",
    "              variable to create representative subsets. C. perform a train_test split on these stratified subsets to maintain \n",
    "              class balance in both sets<br><br>\n",
    "              <b>Time series split:</b>\n",
    "              purpose for time series data where the order of data oints matter steps A. sort the dataset based on the time or\n",
    "              date variable B. Divide the data into training and testing sets such that the training set consists of past data\n",
    "              and the testing set contains future data.<br><br>\n",
    "          </li>\n",
    "          <li>\n",
    "              <b>Leave one out cross validation - </b>Purpose to leave out a single data point as the test set in each \n",
    "              iteration. Steps: For each data point in the dataset, create a training set with all other data points. Train and\n",
    "              test the model for each data point separately. Calculate the performance metrics based on the predictions from \n",
    "              each iteration.<br>\n",
    "              <b>Group k-fold cross validation:</b>purpose to accouont for groups or slusters in the data<br>\n",
    "              Steps:\n",
    "              <ul>\n",
    "                  <li>Randomly sample data points with replacement to create multiple bootstrap samples.</li>\n",
    "                  <li>Train and evaluate the model on each bootstrap sample.</li>\n",
    "                  <li>Calculate performance metrics based on the results of each sample.</li>\n",
    "              </ul><br>\n",
    "          </li>\n",
    "      </ol>\n",
    "      The choice of dataset splitting method depends on the specific problem, and teh goal of our analysis. its important to select an appropriate method to ensure reliable model evaluation and generalization\n",
    "  </li>\n",
    "  <li>\n",
    "      <b>Model Building: </b> \n",
    "      <ol type=\"a\">\n",
    "          <li>Choose the model: select either simple liner regression or multiple linear regression</li>\n",
    "          <li>Fit the model: use the training data to estimate the coefficients that minimize the sum of squared differences\n",
    "              between the observed and predicted values</li>\n",
    "          <li>Interpret the Coefficients: Understand the meaning of the coefficients for each independent variable. They \n",
    "              represent the change in the dependent variable for a one unit change in the corresponding independent variable, \n",
    "              assuming all other variables are held constant.</li>\n",
    "      </ol> \n",
    "  </li>\n",
    "  <li>\n",
    "      <b>Model Evaluation: </b>  \n",
    "      <ol type=\"a\">\n",
    "          <li>Assess Model fit: Use appropiate metrics like Mean Squared Error(MSE), Root Mean Squared Error(RMSE) or R-squared\n",
    "              to evaluate how well our model fits the training data.</li>\n",
    "          <li>Test the model: Apply the model to the testing set to assess its predictive accuracy on unseen data</li>\n",
    "      </ol> \n",
    "  </li>\n",
    "  <li>\n",
    "      <b>Model Interpretation: </b>  \n",
    "      <ol type=\"a\">\n",
    "          <li>Coefficient Significance: Determine if the coefficients are statistically significant using hypothesis tests</li>\n",
    "          <li>Coefficient Interpretation: interpret the coefficients in the context of our problem to make meaningful \n",
    "              conclusions.</li>\n",
    "      </ol> \n",
    "  </li>\n",
    "  <ul type=\"1\">\n",
    "      <li>Prediction and Inference: Use the model to make predictions or draw inferences about the relationship between the \n",
    "          dependent and independent variables.</li>\n",
    "      <li>Model Deployment: if the model performs well and is valuable it can be deployed in production for real world \n",
    "          predictions.</li>\n",
    "      <li>Regularization: In some cases we might apply regularization techniques like Ridge or lasso regression to prevent \n",
    "          overfitting or handle multicollinearity.</li>\n",
    "      <li>Continuous Imporvement: As new data becomes available we may need to retrain the model to keep it accurate and \n",
    "          relevant.</li>\n",
    "  </ul>  \n",
    "\n",
    "    \n",
    "\n",
    "    \n",
    "    \n",
    "</ol> \n",
    "\n",
    "\n",
    "\n",
    "\n"
   ]
  },
  {
   "cell_type": "markdown",
   "id": "30e43366",
   "metadata": {},
   "source": [
    "<span id='Simple_linear_regression_for_Sales_Prediction' style=\"font-size:30px; color:green\">Simple linear regression(Sales Prediction Problem)</span> "
   ]
  },
  {
   "cell_type": "markdown",
   "id": "f2017c80",
   "metadata": {},
   "source": [
    "### Problem Statement: \n",
    "Build a model which predicts sales based on the money spent on different platforms for marketing.\n",
    "\n",
    "### Data:\n",
    "Use the advertising dataset given in ISLR and analyse the relationship between 'TV advertising' and 'sales' using a simple linear regression model.\n",
    "\n",
    "We are going to build a ___linear regression model___ to predict __Sales__ using an __appropriate predictor variable__.\n",
    "\n"
   ]
  },
  {
   "cell_type": "markdown",
   "id": "cec62802",
   "metadata": {},
   "source": [
    "## Import Necessary libraries"
   ]
  },
  {
   "cell_type": "markdown",
   "id": "f5f5232f",
   "metadata": {},
   "source": [
    "<b>NumPy</b> is a Python library used for working with arrays. It also has functions for working in domain of linear algebra, fourier transform, and matrices. NumPy can be used to perform a wide variety of mathematical operations on arrays. It adds powerful data structures to Python that guarantee efficient calculations with arrays and matrices and it supplies an enormous library of high-level mathematical functions that operate on these arrays and matrices.<br><br>\n",
    "<b>Pandas</b> is a Python library used for working with data sets. It has functions for analyzing, cleaning, exploring, and manipulating data. Pandas is a fast, powerful, flexible and easy to use open source data analysis and manipulation tool, built on top of the Python programming language.<br><br>\n",
    "<b>Matplotlib</b> is a comprehensive library for creating static, animated, and interactive visualizations in Python. Matplotlib makes easy things easy and hard things possible. Create publication quality plots. Make interactive figures that can zoom, pan, update. Customize visual style and layout.<br><br>\n",
    "<b>Seaborn</b> is a Python data visualization library based on matplotlib. It provides a high-level interface for drawing attractive and informative statistical graphics. It builds on top of matplotlib and integrates closely with pandas data structures. Seaborn helps we explore and understand our data.<br><br>\n",
    "<b>Scikit-learn</b> is probably the most useful library for machine learning in Python. The sklearn library contains a lot of efficient tools for machine learning and statistical modeling including classification, regression, clustering and dimensionality reduction.<br><br> \n",
    "<b>Statsmodels</b> is a Python package that allows users to explore data, estimate statistical models, and perform statistical tests. Statsmodels is built on top of NumPy, SciPy, and matplotlib, but it contains more advanced functions for statistical testing and modeling that we won't find in numerical libraries like NumPy or SciPy.<br><br> \n",
    "\n",
    " "
   ]
  },
  {
   "cell_type": "code",
   "execution_count": 69,
   "id": "6c48691c",
   "metadata": {},
   "outputs": [],
   "source": [
    "# Supress Warnings\n",
    "import warnings\n",
    "warnings.filterwarnings('ignore')\n",
    "\n",
    "# import the numpy and pandas packages\n",
    "import numpy as np\n",
    "import pandas as pd\n",
    "\n",
    "# to visualize data\n",
    "import matplotlib.pyplot as plt \n",
    "import seaborn as sns\n",
    "\n",
    "# to split arrays or matrices into random train and test subsets\n",
    "from sklearn.model_selection import train_test_split\n",
    "\n",
    "# to use linear regression model from sklearn package\n",
    "import statsmodels.api as sm"
   ]
  },
  {
   "cell_type": "markdown",
   "id": "1867689d",
   "metadata": {},
   "source": [
    "## Data Collection"
   ]
  },
  {
   "cell_type": "code",
   "execution_count": 70,
   "id": "8d0ee656",
   "metadata": {},
   "outputs": [],
   "source": [
    "# data source\n",
    "url = \"./LinearRegression_advertising.csv\""
   ]
  },
  {
   "cell_type": "code",
   "execution_count": 71,
   "id": "de652678",
   "metadata": {},
   "outputs": [
    {
     "data": {
      "text/html": [
       "<div>\n",
       "<style scoped>\n",
       "    .dataframe tbody tr th:only-of-type {\n",
       "        vertical-align: middle;\n",
       "    }\n",
       "\n",
       "    .dataframe tbody tr th {\n",
       "        vertical-align: top;\n",
       "    }\n",
       "\n",
       "    .dataframe thead th {\n",
       "        text-align: right;\n",
       "    }\n",
       "</style>\n",
       "<table border=\"1\" class=\"dataframe\">\n",
       "  <thead>\n",
       "    <tr style=\"text-align: right;\">\n",
       "      <th></th>\n",
       "      <th>TV</th>\n",
       "      <th>Radio</th>\n",
       "      <th>Newspaper</th>\n",
       "      <th>Sales</th>\n",
       "    </tr>\n",
       "  </thead>\n",
       "  <tbody>\n",
       "    <tr>\n",
       "      <th>0</th>\n",
       "      <td>230.1</td>\n",
       "      <td>37.8</td>\n",
       "      <td>69.2</td>\n",
       "      <td>22.1</td>\n",
       "    </tr>\n",
       "    <tr>\n",
       "      <th>1</th>\n",
       "      <td>44.5</td>\n",
       "      <td>39.3</td>\n",
       "      <td>45.1</td>\n",
       "      <td>10.4</td>\n",
       "    </tr>\n",
       "    <tr>\n",
       "      <th>2</th>\n",
       "      <td>17.2</td>\n",
       "      <td>45.9</td>\n",
       "      <td>69.3</td>\n",
       "      <td>12.0</td>\n",
       "    </tr>\n",
       "    <tr>\n",
       "      <th>3</th>\n",
       "      <td>151.5</td>\n",
       "      <td>41.3</td>\n",
       "      <td>58.5</td>\n",
       "      <td>16.5</td>\n",
       "    </tr>\n",
       "    <tr>\n",
       "      <th>4</th>\n",
       "      <td>180.8</td>\n",
       "      <td>10.8</td>\n",
       "      <td>58.4</td>\n",
       "      <td>17.9</td>\n",
       "    </tr>\n",
       "    <tr>\n",
       "      <th>...</th>\n",
       "      <td>...</td>\n",
       "      <td>...</td>\n",
       "      <td>...</td>\n",
       "      <td>...</td>\n",
       "    </tr>\n",
       "    <tr>\n",
       "      <th>195</th>\n",
       "      <td>38.2</td>\n",
       "      <td>3.7</td>\n",
       "      <td>13.8</td>\n",
       "      <td>7.6</td>\n",
       "    </tr>\n",
       "    <tr>\n",
       "      <th>196</th>\n",
       "      <td>94.2</td>\n",
       "      <td>4.9</td>\n",
       "      <td>8.1</td>\n",
       "      <td>14.0</td>\n",
       "    </tr>\n",
       "    <tr>\n",
       "      <th>197</th>\n",
       "      <td>177.0</td>\n",
       "      <td>9.3</td>\n",
       "      <td>6.4</td>\n",
       "      <td>14.8</td>\n",
       "    </tr>\n",
       "    <tr>\n",
       "      <th>198</th>\n",
       "      <td>283.6</td>\n",
       "      <td>42.0</td>\n",
       "      <td>66.2</td>\n",
       "      <td>25.5</td>\n",
       "    </tr>\n",
       "    <tr>\n",
       "      <th>199</th>\n",
       "      <td>232.1</td>\n",
       "      <td>8.6</td>\n",
       "      <td>8.7</td>\n",
       "      <td>18.4</td>\n",
       "    </tr>\n",
       "  </tbody>\n",
       "</table>\n",
       "<p>200 rows × 4 columns</p>\n",
       "</div>"
      ],
      "text/plain": [
       "        TV  Radio  Newspaper  Sales\n",
       "0    230.1   37.8       69.2   22.1\n",
       "1     44.5   39.3       45.1   10.4\n",
       "2     17.2   45.9       69.3   12.0\n",
       "3    151.5   41.3       58.5   16.5\n",
       "4    180.8   10.8       58.4   17.9\n",
       "..     ...    ...        ...    ...\n",
       "195   38.2    3.7       13.8    7.6\n",
       "196   94.2    4.9        8.1   14.0\n",
       "197  177.0    9.3        6.4   14.8\n",
       "198  283.6   42.0       66.2   25.5\n",
       "199  232.1    8.6        8.7   18.4\n",
       "\n",
       "[200 rows x 4 columns]"
      ]
     },
     "execution_count": 71,
     "metadata": {},
     "output_type": "execute_result"
    }
   ],
   "source": [
    "# reading data\n",
    "df = pd.read_csv(url)\n",
    "df"
   ]
  },
  {
   "cell_type": "code",
   "execution_count": 72,
   "id": "18507234",
   "metadata": {},
   "outputs": [
    {
     "name": "stdout",
     "output_type": "stream",
     "text": [
      "<class 'pandas.core.frame.DataFrame'>\n",
      "RangeIndex: 200 entries, 0 to 199\n",
      "Data columns (total 4 columns):\n",
      " #   Column     Non-Null Count  Dtype  \n",
      "---  ------     --------------  -----  \n",
      " 0   TV         200 non-null    float64\n",
      " 1   Radio      200 non-null    float64\n",
      " 2   Newspaper  200 non-null    float64\n",
      " 3   Sales      200 non-null    float64\n",
      "dtypes: float64(4)\n",
      "memory usage: 6.4 KB\n"
     ]
    }
   ],
   "source": [
    "# data information\n",
    "df.info()"
   ]
  },
  {
   "cell_type": "markdown",
   "id": "eb8a77ec",
   "metadata": {},
   "source": [
    "## Data Processing"
   ]
  },
  {
   "cell_type": "markdown",
   "id": "f1e4e27b",
   "metadata": {},
   "source": [
    "### Data Cleaning"
   ]
  },
  {
   "cell_type": "code",
   "execution_count": 73,
   "id": "45a8aee7",
   "metadata": {},
   "outputs": [
    {
     "data": {
      "text/plain": [
       "TV           0\n",
       "Radio        0\n",
       "Newspaper    0\n",
       "Sales        0\n",
       "dtype: int64"
      ]
     },
     "execution_count": 73,
     "metadata": {},
     "output_type": "execute_result"
    }
   ],
   "source": [
    "# Checking Null values\n",
    "df.isnull().sum()"
   ]
  },
  {
   "cell_type": "markdown",
   "id": "8488814d",
   "metadata": {},
   "source": [
    "<b>There are no NULL values in the dataset, hence it is clean.</b>"
   ]
  },
  {
   "cell_type": "code",
   "execution_count": 74,
   "id": "0bf2f3ab",
   "metadata": {},
   "outputs": [
    {
     "data": {
      "image/png": "[encoded data removed]",
      "text/plain": [
       "<Figure size 360x360 with 3 Axes>"
      ]
     },
     "metadata": {
      "needs_background": "light"
     },
     "output_type": "display_data"
    }
   ],
   "source": [
    "# Outlier Analysis\n",
    "fig, axs = plt.subplots(3, figsize = (5,5))\n",
    "sns.boxplot(df['TV'], ax = axs[0])\n",
    "sns.boxplot(df['Radio'], ax = axs[1])\n",
    "sns.boxplot(df['Newspaper'], ax = axs[2])\n",
    "plt.tight_layout()"
   ]
  },
  {
   "cell_type": "markdown",
   "id": "b0c03368",
   "metadata": {},
   "source": [
    "<b>There are no considerable outliers present in the data.</b>"
   ]
  },
  {
   "cell_type": "markdown",
   "id": "0b74246e",
   "metadata": {},
   "source": [
    "### Feature Selection"
   ]
  },
  {
   "cell_type": "markdown",
   "id": "2143d839",
   "metadata": {},
   "source": [
    "<b>Univariate Analysis: </b> Sales (Target Variable)"
   ]
  },
  {
   "cell_type": "code",
   "execution_count": 75,
   "id": "0fbb0a78",
   "metadata": {},
   "outputs": [
    {
     "data": {
      "image/png": "[encoded data removed]",
      "text/plain": [
       "<Figure size 432x288 with 1 Axes>"
      ]
     },
     "metadata": {
      "needs_background": "light"
     },
     "output_type": "display_data"
    }
   ],
   "source": [
    "sns.boxplot(df['Sales'])\n",
    "plt.show()"
   ]
  },
  {
   "cell_type": "markdown",
   "id": "992f1751",
   "metadata": {},
   "source": [
    "<b>Here, we consider how Sales are related with other variables using scatter plot.</b>"
   ]
  },
  {
   "cell_type": "code",
   "execution_count": 76,
   "id": "0bc3c879",
   "metadata": {},
   "outputs": [
    {
     "data": {
      "image/png": "[encoded data removed]",
      "text/plain": [
       "<Figure size 1152x288 with 3 Axes>"
      ]
     },
     "metadata": {
      "needs_background": "light"
     },
     "output_type": "display_data"
    }
   ],
   "source": [
    "fig, axs = plt.subplots(ncols=3, figsize=(16, 4))\n",
    "sns.scatterplot(x='TV', y='Sales', data=df, ax = axs[0])\n",
    "sns.scatterplot(x='Radio', y='Sales', data=df, ax = axs[1])\n",
    "sns.scatterplot(x='Newspaper', y='Sales', data=df, ax = axs[2])\n",
    "plt.show()"
   ]
  },
  {
   "cell_type": "markdown",
   "id": "396cc6d9",
   "metadata": {},
   "source": [
    "<b>Let's consider the correlation between different variables to select feature to use.</b>"
   ]
  },
  {
   "cell_type": "code",
   "execution_count": 77,
   "id": "4abe9c08",
   "metadata": {},
   "outputs": [
    {
     "data": {
      "image/png": "[encoded data removed]",
      "text/plain": [
       "<Figure size 432x288 with 2 Axes>"
      ]
     },
     "metadata": {
      "needs_background": "light"
     },
     "output_type": "display_data"
    }
   ],
   "source": [
    "# correlation analysis\n",
    "sns.heatmap(df.corr(), cmap=\"YlGnBu\", annot = True)\n",
    "plt.show()"
   ]
  },
  {
   "cell_type": "markdown",
   "id": "84fa0a96",
   "metadata": {},
   "source": [
    "<b>From the above graph, the variable TV seems to be most correlated with Sales. Therefore, we can select TV as our feature variable.</b>"
   ]
  },
  {
   "cell_type": "markdown",
   "id": "708e55f5",
   "metadata": {},
   "source": [
    "## Train-Test Split\n",
    "\n",
    " <b>It is usually a good practice to keep 70% of the data in train dataset and the rest 30% in test dataset.</b>"
   ]
  },
  {
   "cell_type": "code",
   "execution_count": 78,
   "id": "5d0ec17c",
   "metadata": {},
   "outputs": [],
   "source": [
    "# We first assign the feature variable, TV to the variable X and the response variable, Sales, to the variable y.\n",
    "X = df['TV']\n",
    "y = df['Sales']\n",
    "\n",
    "# data split\n",
    "X_train, X_test, y_train, y_test = train_test_split(X, y, train_size = 0.7, test_size = 0.3, random_state = 50)"
   ]
  },
  {
   "cell_type": "code",
   "execution_count": 79,
   "id": "6312dbbd",
   "metadata": {},
   "outputs": [
    {
     "data": {
      "text/plain": [
       "114     78.2\n",
       "187    191.1\n",
       "76      27.5\n",
       "122    224.0\n",
       "142    220.5\n",
       "Name: TV, dtype: float64"
      ]
     },
     "execution_count": 79,
     "metadata": {},
     "output_type": "execute_result"
    }
   ],
   "source": [
    "X_train.head()"
   ]
  },
  {
   "cell_type": "code",
   "execution_count": 80,
   "id": "5515d832",
   "metadata": {},
   "outputs": [
    {
     "data": {
      "text/plain": [
       "114    14.6\n",
       "187    17.3\n",
       "76      6.9\n",
       "122    16.6\n",
       "142    20.1\n",
       "Name: Sales, dtype: float64"
      ]
     },
     "execution_count": 80,
     "metadata": {},
     "output_type": "execute_result"
    }
   ],
   "source": [
    "y_train.head()"
   ]
  },
  {
   "cell_type": "markdown",
   "id": "35c9aa2d",
   "metadata": {},
   "source": [
    "## Building Linear Regression Model\n",
    "By default, the statsmodels library fits a line on the dataset which passes through the origin. But in order to have an intercept, we need to manually use the add_constant attribute of statsmodels. And once we've added the constant to our X_train dataset, we can go ahead and fit a regression line using the OLS (Ordinary Least Squares) attribute of statsmodels as shown below.\n",
    "\n",
    "OLS or Ordinary Least Squares is a useful method for evaluating a linear regression model."
   ]
  },
  {
   "cell_type": "code",
   "execution_count": 83,
   "id": "a8379642",
   "metadata": {},
   "outputs": [],
   "source": [
    "# Add a constant to get an intercept\n",
    "X_train_sm = sm.add_constant(X_train)\n",
    "\n",
    "# Fit the resgression line using 'OLS'. \n",
    "lr = sm.OLS(y_train, X_train_sm).fit()"
   ]
  },
  {
   "cell_type": "code",
   "execution_count": 84,
   "id": "29e55843",
   "metadata": {},
   "outputs": [
    {
     "data": {
      "text/plain": [
       "const    6.840057\n",
       "TV       0.057629\n",
       "dtype: float64"
      ]
     },
     "execution_count": 84,
     "metadata": {},
     "output_type": "execute_result"
    }
   ],
   "source": [
    "# Print the parameters, i.e. the intercept and the slope of the regression line fitted\n",
    "lr.params"
   ]
  },
  {
   "cell_type": "code",
   "execution_count": 85,
   "id": "0bdd6f13",
   "metadata": {},
   "outputs": [
    {
     "name": "stdout",
     "output_type": "stream",
     "text": [
      "                            OLS Regression Results                            \n",
      "==============================================================================\n",
      "Dep. Variable:                  Sales   R-squared:                       0.823\n",
      "Model:                            OLS   Adj. R-squared:                  0.821\n",
      "Method:                 Least Squares   F-statistic:                     640.0\n",
      "Date:                Thu, 09 May 2024   Prob (F-statistic):           1.11e-53\n",
      "Time:                        04:26:10   Log-Likelihood:                -316.49\n",
      "No. Observations:                 140   AIC:                             637.0\n",
      "Df Residuals:                     138   BIC:                             642.9\n",
      "Df Model:                           1                                         \n",
      "Covariance Type:            nonrobust                                         \n",
      "==============================================================================\n",
      "                 coef    std err          t      P>|t|      [0.025      0.975]\n",
      "------------------------------------------------------------------------------\n",
      "const          6.8401      0.393     17.401      0.000       6.063       7.617\n",
      "TV             0.0576      0.002     25.299      0.000       0.053       0.062\n",
      "==============================================================================\n",
      "Omnibus:                        0.344   Durbin-Watson:                   1.820\n",
      "Prob(Omnibus):                  0.842   Jarque-Bera (JB):                0.213\n",
      "Skew:                          -0.095   Prob(JB):                        0.899\n",
      "Kurtosis:                       3.023   Cond. No.                         343.\n",
      "==============================================================================\n",
      "\n",
      "Notes:\n",
      "[1] Standard Errors assume that the covariance matrix of the errors is correctly specified.\n"
     ]
    }
   ],
   "source": [
    "# Performing a summary operation lists out all the different parameters of the regression line fitted\n",
    "print(lr.summary())"
   ]
  },
  {
   "cell_type": "markdown",
   "id": "2cbd6ccd",
   "metadata": {},
   "source": [
    "## Model Evaluation and Interpretation with train data\n",
    "\n",
    "### __1. The coefficient for TV is 0.0576, with a very low p value($\\ll$0.05).__\n",
    "\n",
    "$\\;\\;$__The coefficient is statistically significant. So the association is not purely by chance.__\n",
    "\n",
    "\n",
    "### __2. R - squared is 0.823.__\n",
    "$\\;\\;$__Meaning that 82.3% of the variance in Sales is explained by TV.__\n",
    "\n",
    "$\\;\\;$__This is a decent R-squared value.__\n",
    "\n",
    "### __3. F statistic has a very low p value (practically low).__\n",
    "\n",
    "$\\;\\;$__Meaning that the model fit is statistically significant, and the explained variance isn't purely by chance.__"
   ]
  },
  {
   "cell_type": "markdown",
   "id": "4fc56e8e",
   "metadata": {},
   "source": [
    "The fit is significant. Let's visualize how well the model fit the data.\n",
    "\n",
    "From the parameters that we get, our linear regression equation becomes:\n",
    "\n",
    "<span  style=\"font-size:20px; \">Sales = 6.8401 + 0.0576 × TV</span> "
   ]
  },
  {
   "cell_type": "code",
   "execution_count": 87,
   "id": "53559daa",
   "metadata": {},
   "outputs": [
    {
     "data": {
      "image/png": "[encoded data removed]",
      "text/plain": [
       "<Figure size 432x288 with 1 Axes>"
      ]
     },
     "metadata": {
      "needs_background": "light"
     },
     "output_type": "display_data"
    }
   ],
   "source": [
    "# scatterplot and regression line for train data\n",
    "plt.scatter(X_train, y_train)\n",
    "plt.plot(X_train, 6.948 + 0.054*X_train, 'r')\n",
    "plt.show()"
   ]
  },
  {
   "cell_type": "markdown",
   "id": "6df50739",
   "metadata": {},
   "source": [
    "### Residual analysis\n",
    "To validate assumptions of the model, and hence the reliability for inference.\n",
    "\n",
    "Distribution of the error terms: We need to check if the error terms are also normally distributed (which is infact, one of the major assumptions of linear regression), let us plot the histogram of the error terms and see what it looks like."
   ]
  },
  {
   "cell_type": "code",
   "execution_count": 88,
   "id": "c08c214c",
   "metadata": {},
   "outputs": [],
   "source": [
    "y_train_pred = lr.predict(X_train_sm)\n",
    "res = (y_train - y_train_pred)"
   ]
  },
  {
   "cell_type": "code",
   "execution_count": 89,
   "id": "d6dbdaf4",
   "metadata": {},
   "outputs": [
    {
     "data": {
      "image/png": "[encoded data removed]",
      "text/plain": [
       "<Figure size 432x288 with 1 Axes>"
      ]
     },
     "metadata": {
      "needs_background": "light"
     },
     "output_type": "display_data"
    }
   ],
   "source": [
    "fig = plt.figure()\n",
    "sns.distplot(res, bins = 15)\n",
    "fig.suptitle('Error Terms', fontsize = 15)                  # Plot heading \n",
    "plt.xlabel('y_train - y_train_pred', fontsize = 15)         # X-label\n",
    "plt.show()"
   ]
  },
  {
   "cell_type": "markdown",
   "id": "91bcde27",
   "metadata": {},
   "source": [
    "__The residuals are following the normally distributed with a mean 0. All good!__"
   ]
  },
  {
   "cell_type": "markdown",
   "id": "152d9e4c",
   "metadata": {},
   "source": [
    "Looking for patterns in the residuals"
   ]
  },
  {
   "cell_type": "code",
   "execution_count": 90,
   "id": "af82c264",
   "metadata": {},
   "outputs": [
    {
     "data": {
      "image/png": "[encoded data removed]",
      "text/plain": [
       "<Figure size 432x288 with 1 Axes>"
      ]
     },
     "metadata": {
      "needs_background": "light"
     },
     "output_type": "display_data"
    }
   ],
   "source": [
    "plt.scatter(X_train,res)\n",
    "plt.show()"
   ]
  },
  {
   "cell_type": "markdown",
   "id": "a1ac5404",
   "metadata": {},
   "source": [
    "We are confident that the model fit isn't by chance, and has decent predictive power. The normality of residual terms allows some inference on the coefficients.\n",
    "\n",
    "As we can see, the regression line is a pretty good fit to the data"
   ]
  },
  {
   "cell_type": "markdown",
   "id": "312252c5",
   "metadata": {},
   "source": [
    "## Model Evaluation for test data\n",
    "\n",
    "Now that we have fitted a regression line on our train dataset, it's time to make some predictions on the test data. For this, we first need to add a constant to the X_test data like we did for X_train and then we can simply go on and predict the y values corresponding to X_test using the predict attribute of the fitted regression line."
   ]
  },
  {
   "cell_type": "code",
   "execution_count": 91,
   "id": "efcb60e5",
   "metadata": {},
   "outputs": [],
   "source": [
    "# Add a constant to X_test\n",
    "X_test_sm = sm.add_constant(X_test)\n",
    "\n",
    "# Predict the y values corresponding to X_test_sm\n",
    "y_pred = lr.predict(X_test_sm)"
   ]
  },
  {
   "cell_type": "code",
   "execution_count": 92,
   "id": "50cd2f7b",
   "metadata": {},
   "outputs": [
    {
     "data": {
      "text/plain": [
       "112    16.965480\n",
       "165    20.354067\n",
       "12      8.211628\n",
       "73     14.297255\n",
       "144    12.383971\n",
       "dtype: float64"
      ]
     },
     "execution_count": 92,
     "metadata": {},
     "output_type": "execute_result"
    }
   ],
   "source": [
    "y_pred.head()"
   ]
  },
  {
   "cell_type": "code",
   "execution_count": 93,
   "id": "d5341d8d",
   "metadata": {},
   "outputs": [],
   "source": [
    "from sklearn.metrics import mean_squared_error\n",
    "from sklearn.metrics import r2_score"
   ]
  },
  {
   "cell_type": "code",
   "execution_count": 94,
   "id": "f6f665d7",
   "metadata": {},
   "outputs": [
    {
     "data": {
      "text/plain": [
       "2.2488177561425107"
      ]
     },
     "execution_count": 94,
     "metadata": {},
     "output_type": "execute_result"
    }
   ],
   "source": [
    "#Returns the mean squared error; we'll take a square root\n",
    "np.sqrt(mean_squared_error(y_test, y_pred))"
   ]
  },
  {
   "cell_type": "markdown",
   "id": "5b4e05aa",
   "metadata": {},
   "source": [
    "Checking the R-squared on the test set"
   ]
  },
  {
   "cell_type": "code",
   "execution_count": 95,
   "id": "1f2f5ee7",
   "metadata": {},
   "outputs": [
    {
     "data": {
      "text/plain": [
       "0.7596642945163175"
      ]
     },
     "execution_count": 95,
     "metadata": {},
     "output_type": "execute_result"
    }
   ],
   "source": [
    "r_squared = r2_score(y_test, y_pred)\n",
    "r_squared"
   ]
  },
  {
   "cell_type": "markdown",
   "id": "41e543d9",
   "metadata": {},
   "source": [
    "Visualizing the fit on the test set"
   ]
  },
  {
   "cell_type": "code",
   "execution_count": 96,
   "id": "0b595224",
   "metadata": {},
   "outputs": [
    {
     "data": {
      "image/png": "[encoded data removed]",
      "text/plain": [
       "<Figure size 432x288 with 1 Axes>"
      ]
     },
     "metadata": {
      "needs_background": "light"
     },
     "output_type": "display_data"
    }
   ],
   "source": [
    "plt.scatter(X_test, y_test)\n",
    "plt.plot(X_test, 6.948 + 0.054 * X_test, 'r')\n",
    "plt.show()"
   ]
  }
 ],
 "metadata": {
  "kernelspec": {
   "display_name": "Python 3 (ipykernel)",
   "language": "python",
   "name": "python3"
  },
  "language_info": {
   "codemirror_mode": {
    "name": "ipython",
    "version": 3
   },
   "file_extension": ".py",
   "mimetype": "text/x-python",
   "name": "python",
   "nbconvert_exporter": "python",
   "pygments_lexer": "ipython3",
   "version": "3.9.7"
  }
 },
 "nbformat": 4,
 "nbformat_minor": 5
}
